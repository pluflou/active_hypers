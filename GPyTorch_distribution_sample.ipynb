{
  "nbformat": 4,
  "nbformat_minor": 0,
  "metadata": {
    "colab": {
      "name": "GPyTorch_distribution_sample.ipynb",
      "provenance": [],
      "collapsed_sections": []
    },
    "kernelspec": {
      "display_name": "Python 3",
      "name": "python3"
    },
    "language_info": {
      "name": "python"
    }
  },
  "cells": [
    {
      "cell_type": "code",
      "metadata": {
        "id": "ykuTMtViQMOG",
        "colab": {
          "base_uri": "https://localhost:8080/"
        },
        "outputId": "00aba398-1240-490c-dd52-1034139cf09b"
      },
      "source": [
        "!pip install pyro-ppl torch gpytorch"
      ],
      "execution_count": null,
      "outputs": [
        {
          "output_type": "stream",
          "name": "stdout",
          "text": [
            "Collecting pyro-ppl\n",
            "  Downloading pyro_ppl-1.7.0-py3-none-any.whl (678 kB)\n",
            "\u001b[?25l\r\u001b[K     |▌                               | 10 kB 23.0 MB/s eta 0:00:01\r\u001b[K     |█                               | 20 kB 10.2 MB/s eta 0:00:01\r\u001b[K     |█▌                              | 30 kB 9.1 MB/s eta 0:00:01\r\u001b[K     |██                              | 40 kB 7.9 MB/s eta 0:00:01\r\u001b[K     |██▍                             | 51 kB 4.3 MB/s eta 0:00:01\r\u001b[K     |███                             | 61 kB 4.6 MB/s eta 0:00:01\r\u001b[K     |███▍                            | 71 kB 4.5 MB/s eta 0:00:01\r\u001b[K     |███▉                            | 81 kB 5.1 MB/s eta 0:00:01\r\u001b[K     |████▍                           | 92 kB 5.2 MB/s eta 0:00:01\r\u001b[K     |████▉                           | 102 kB 4.2 MB/s eta 0:00:01\r\u001b[K     |█████▎                          | 112 kB 4.2 MB/s eta 0:00:01\r\u001b[K     |█████▉                          | 122 kB 4.2 MB/s eta 0:00:01\r\u001b[K     |██████▎                         | 133 kB 4.2 MB/s eta 0:00:01\r\u001b[K     |██████▊                         | 143 kB 4.2 MB/s eta 0:00:01\r\u001b[K     |███████▎                        | 153 kB 4.2 MB/s eta 0:00:01\r\u001b[K     |███████▊                        | 163 kB 4.2 MB/s eta 0:00:01\r\u001b[K     |████████▏                       | 174 kB 4.2 MB/s eta 0:00:01\r\u001b[K     |████████▊                       | 184 kB 4.2 MB/s eta 0:00:01\r\u001b[K     |█████████▏                      | 194 kB 4.2 MB/s eta 0:00:01\r\u001b[K     |█████████▋                      | 204 kB 4.2 MB/s eta 0:00:01\r\u001b[K     |██████████▏                     | 215 kB 4.2 MB/s eta 0:00:01\r\u001b[K     |██████████▋                     | 225 kB 4.2 MB/s eta 0:00:01\r\u001b[K     |███████████                     | 235 kB 4.2 MB/s eta 0:00:01\r\u001b[K     |███████████▋                    | 245 kB 4.2 MB/s eta 0:00:01\r\u001b[K     |████████████                    | 256 kB 4.2 MB/s eta 0:00:01\r\u001b[K     |████████████▌                   | 266 kB 4.2 MB/s eta 0:00:01\r\u001b[K     |█████████████                   | 276 kB 4.2 MB/s eta 0:00:01\r\u001b[K     |█████████████▌                  | 286 kB 4.2 MB/s eta 0:00:01\r\u001b[K     |██████████████                  | 296 kB 4.2 MB/s eta 0:00:01\r\u001b[K     |██████████████▌                 | 307 kB 4.2 MB/s eta 0:00:01\r\u001b[K     |███████████████                 | 317 kB 4.2 MB/s eta 0:00:01\r\u001b[K     |███████████████▌                | 327 kB 4.2 MB/s eta 0:00:01\r\u001b[K     |████████████████                | 337 kB 4.2 MB/s eta 0:00:01\r\u001b[K     |████████████████▍               | 348 kB 4.2 MB/s eta 0:00:01\r\u001b[K     |█████████████████               | 358 kB 4.2 MB/s eta 0:00:01\r\u001b[K     |█████████████████▍              | 368 kB 4.2 MB/s eta 0:00:01\r\u001b[K     |█████████████████▉              | 378 kB 4.2 MB/s eta 0:00:01\r\u001b[K     |██████████████████▍             | 389 kB 4.2 MB/s eta 0:00:01\r\u001b[K     |██████████████████▉             | 399 kB 4.2 MB/s eta 0:00:01\r\u001b[K     |███████████████████▎            | 409 kB 4.2 MB/s eta 0:00:01\r\u001b[K     |███████████████████▉            | 419 kB 4.2 MB/s eta 0:00:01\r\u001b[K     |████████████████████▎           | 430 kB 4.2 MB/s eta 0:00:01\r\u001b[K     |████████████████████▊           | 440 kB 4.2 MB/s eta 0:00:01\r\u001b[K     |█████████████████████▎          | 450 kB 4.2 MB/s eta 0:00:01\r\u001b[K     |█████████████████████▊          | 460 kB 4.2 MB/s eta 0:00:01\r\u001b[K     |██████████████████████▏         | 471 kB 4.2 MB/s eta 0:00:01\r\u001b[K     |██████████████████████▊         | 481 kB 4.2 MB/s eta 0:00:01\r\u001b[K     |███████████████████████▏        | 491 kB 4.2 MB/s eta 0:00:01\r\u001b[K     |███████████████████████▋        | 501 kB 4.2 MB/s eta 0:00:01\r\u001b[K     |████████████████████████▏       | 512 kB 4.2 MB/s eta 0:00:01\r\u001b[K     |████████████████████████▋       | 522 kB 4.2 MB/s eta 0:00:01\r\u001b[K     |█████████████████████████       | 532 kB 4.2 MB/s eta 0:00:01\r\u001b[K     |█████████████████████████▋      | 542 kB 4.2 MB/s eta 0:00:01\r\u001b[K     |██████████████████████████      | 552 kB 4.2 MB/s eta 0:00:01\r\u001b[K     |██████████████████████████▌     | 563 kB 4.2 MB/s eta 0:00:01\r\u001b[K     |███████████████████████████     | 573 kB 4.2 MB/s eta 0:00:01\r\u001b[K     |███████████████████████████▌    | 583 kB 4.2 MB/s eta 0:00:01\r\u001b[K     |████████████████████████████    | 593 kB 4.2 MB/s eta 0:00:01\r\u001b[K     |████████████████████████████▌   | 604 kB 4.2 MB/s eta 0:00:01\r\u001b[K     |█████████████████████████████   | 614 kB 4.2 MB/s eta 0:00:01\r\u001b[K     |█████████████████████████████▍  | 624 kB 4.2 MB/s eta 0:00:01\r\u001b[K     |██████████████████████████████  | 634 kB 4.2 MB/s eta 0:00:01\r\u001b[K     |██████████████████████████████▍ | 645 kB 4.2 MB/s eta 0:00:01\r\u001b[K     |███████████████████████████████ | 655 kB 4.2 MB/s eta 0:00:01\r\u001b[K     |███████████████████████████████▍| 665 kB 4.2 MB/s eta 0:00:01\r\u001b[K     |███████████████████████████████▉| 675 kB 4.2 MB/s eta 0:00:01\r\u001b[K     |████████████████████████████████| 678 kB 4.2 MB/s \n",
            "\u001b[?25hRequirement already satisfied: torch in /usr/local/lib/python3.7/dist-packages (1.9.0+cu102)\n",
            "Collecting gpytorch\n",
            "  Downloading gpytorch-1.5.1-py2.py3-none-any.whl (503 kB)\n",
            "\u001b[K     |████████████████████████████████| 503 kB 26.2 MB/s \n",
            "\u001b[?25hRequirement already satisfied: tqdm>=4.36 in /usr/local/lib/python3.7/dist-packages (from pyro-ppl) (4.62.3)\n",
            "Requirement already satisfied: opt-einsum>=2.3.2 in /usr/local/lib/python3.7/dist-packages (from pyro-ppl) (3.3.0)\n",
            "Requirement already satisfied: numpy>=1.7 in /usr/local/lib/python3.7/dist-packages (from pyro-ppl) (1.19.5)\n",
            "Collecting pyro-api>=0.1.1\n",
            "  Downloading pyro_api-0.1.2-py3-none-any.whl (11 kB)\n",
            "Requirement already satisfied: typing-extensions in /usr/local/lib/python3.7/dist-packages (from torch) (3.7.4.3)\n",
            "Requirement already satisfied: scipy in /usr/local/lib/python3.7/dist-packages (from gpytorch) (1.4.1)\n",
            "Requirement already satisfied: scikit-learn in /usr/local/lib/python3.7/dist-packages (from gpytorch) (0.22.2.post1)\n",
            "Requirement already satisfied: joblib>=0.11 in /usr/local/lib/python3.7/dist-packages (from scikit-learn->gpytorch) (1.0.1)\n",
            "Installing collected packages: pyro-api, pyro-ppl, gpytorch\n",
            "Successfully installed gpytorch-1.5.1 pyro-api-0.1.2 pyro-ppl-1.7.0\n"
          ]
        }
      ]
    },
    {
      "cell_type": "code",
      "metadata": {
        "id": "EjdiRTWiP-xq"
      },
      "source": [
        "import torch\n",
        "import gpytorch\n",
        "import numpy as np\n",
        "from gpytorch.priors import GammaPrior, UniformPrior\n",
        "\n",
        "import pyro\n",
        "from pyro.infer.mcmc import NUTS, HMC, MCMC\n",
        "\n",
        "import matplotlib.pyplot as plt\n",
        "\n",
        "\n",
        "%matplotlib inline\n",
        "torch.set_default_tensor_type(torch.DoubleTensor)"
      ],
      "execution_count": null,
      "outputs": []
    },
    {
      "cell_type": "code",
      "metadata": {
        "id": "p2s45LeGQGmq"
      },
      "source": [
        "def noisy_sin_function(x):\n",
        "  \"\"\"\n",
        "  takes numpy array (x) as argument and computes sin of array.\n",
        "  \"\"\"\n",
        "  # reproducibility: \n",
        "  # np.random.seed(1)\n",
        "  return np.sin(x[:, 0]) * np.sin(x[:, 1]) + np.random.randn(x.shape[0]) * 0.01\n",
        "\n",
        "def plot_function(input_xy):\n",
        "  \"\"\"\n",
        "  Plots a sin function colormap for a 2d input with color representing value.\n",
        "  \"\"\"\n",
        "  n = 100\n",
        "  x = np.linspace(0, 4, n)\n",
        "  y = np.linspace(0, 4, n)\n",
        "\n",
        "  xx, yy = np.meshgrid(x, y)\n",
        "  pts = np.vstack([xx.ravel(), yy.ravel()]).T\n",
        "\n",
        "  # print(pts.shape)\n",
        "  \n",
        "  z = noisy_sin_function(pts)\n",
        "\n",
        "  fig, ax = plt.subplots(figsize=(8,8))\n",
        "  surf = ax.pcolor(xx, yy, z.reshape(n, n))\n",
        "  plt.plot(input_xy[:,0], input_xy[:,1], 'o', color='k')\n",
        "  plt.rc('font', size=16)  \n",
        "  plt.xlabel(\"X1\")\n",
        "  plt.ylabel(\"X2\")\n",
        "  cbar = fig.colorbar(surf)\n",
        "  cbar.set_label(\"f(x1 , x2)\")\n",
        "  plt.show()\n",
        "\n",
        "def rect_points(start, end, n, ax):\n",
        "  \"\"\"\n",
        "\n",
        "  returns an array of points in a rectangle.\n",
        "\n",
        "  start = x axis where rectangle starts\n",
        "  end = x axis where rectangle ends\n",
        "  n = number of addition points\n",
        "  ax = x axis where addition points are added\n",
        "  \"\"\"\n",
        "\n",
        "  # holds points in square:\n",
        "  points = []\n",
        "\n",
        "  # base points to make square of 4 points:\n",
        "  p1 = np.linspace(start,end, num=2)\n",
        "  p2 = p1[::-1]\n",
        "  points.append(p1)\n",
        "  points.append(p2)\n",
        "  points.append(np.array([start, start]))\n",
        "  points.append(np.array([end, end]))\n",
        "\n",
        "  # additional points:\n",
        "  if ax==start or ax==end:\n",
        "    n += 2\n",
        "  p3 = np.linspace(start, end, num=n)\n",
        "\n",
        "  points = np.array(points)\n",
        "\n",
        "  for i in p3:\n",
        "    l = np.array([ax, i])\n",
        "    # print(l)\n",
        "    # print((l == points).all(1).any())\n",
        "    if not (l == points).all(1).any():\n",
        "      points = np.append([l], points, axis=0)\n",
        "\n",
        "  return points\n",
        "\n"
      ],
      "execution_count": null,
      "outputs": []
    },
    {
      "cell_type": "markdown",
      "metadata": {
        "id": "FWuBe3h0N6oT"
      },
      "source": [
        "# Input Space"
      ]
    },
    {
      "cell_type": "code",
      "metadata": {
        "colab": {
          "base_uri": "https://localhost:8080/",
          "height": 535
        },
        "id": "MxLL9SUpScJp",
        "outputId": "aa92c5e3-beb0-4b6f-9a90-2b4739e649f0"
      },
      "source": [
        "num_data = 5\n",
        "input_xy = rect_points(start=1,end=3,n=4, ax=2)\n",
        "print(input_xy.shape)\n",
        "\n",
        "z = noisy_sin_function(input_xy)\n",
        "z = z.reshape(1,-1)\n",
        "\n",
        "print(z.shape)\n",
        "\n",
        "plot_function(input_xy)"
      ],
      "execution_count": null,
      "outputs": [
        {
          "output_type": "stream",
          "name": "stdout",
          "text": [
            "(8, 2)\n",
            "(1, 8)\n"
          ]
        },
        {
          "output_type": "display_data",
          "data": {
            "image/png": "[encoded data removed]",
            "text/plain": [
              "<Figure size 576x576 with 2 Axes>"
            ]
          },
          "metadata": {
            "needs_background": "light"
          }
        }
      ]
    },
    {
      "cell_type": "markdown",
      "metadata": {
        "id": "AUSlGjtON-vp"
      },
      "source": [
        "# Algorithm Start\n",
        "### obtain prior\n",
        "\n"
      ]
    },
    {
      "cell_type": "code",
      "metadata": {
        "id": "Y-KYSFATShcA"
      },
      "source": [
        "input_xy = torch.Tensor(input_xy)\n",
        "\n",
        "train_x = input_xy\n",
        "train_y = torch.Tensor(z)"
      ],
      "execution_count": null,
      "outputs": []
    },
    {
      "cell_type": "code",
      "metadata": {
        "id": "HfouX_H56v3N"
      },
      "source": [
        "class ExactGPModel(gpytorch.models.ExactGP):\n",
        "    def __init__(self, train_x, train_y, likelihood):\n",
        "        super(ExactGPModel, self).__init__(train_x, train_y, likelihood)\n",
        "        self.mean_module = gpytorch.means.ConstantMean()\n",
        "        self.covar_module = gpytorch.kernels.ScaleKernel(gpytorch.kernels.RBFKernel())\n",
        "\n",
        "    def forward(self, x):\n",
        "        mean_x = self.mean_module(x)\n",
        "        covar_x = self.covar_module(x)\n",
        "        return gpytorch.distributions.MultivariateNormal(mean_x, covar_x)"
      ],
      "execution_count": null,
      "outputs": []
    },
    {
      "cell_type": "code",
      "metadata": {
        "id": "6JOYpiWg6wBA"
      },
      "source": [
        "likelihood = gpytorch.likelihoods.GaussianLikelihood(noise_constraint=gpytorch.constraints.Positive())\n",
        "\n",
        "model = ExactGPModel(train_x, train_y, likelihood)\n",
        "\n",
        "model.covar_module.base_kernel.register_prior(\"lengthscale_prior\", GammaPrior(1,1), \"lengthscale\")\n",
        "model.covar_module.register_prior(\"outputscale_prior\", GammaPrior(1,1), \"outputscale\")\n",
        "likelihood.register_prior(\"noise_prior\", GammaPrior(1,1), \"noise\") # ??\n",
        "\n",
        "# \"Loss\" for GPs - the marginal log likelihood\n",
        "mll = gpytorch.mlls.ExactMarginalLogLikelihood(likelihood, model)"
      ],
      "execution_count": null,
      "outputs": []
    },
    {
      "cell_type": "markdown",
      "metadata": {
        "id": "dHcskFlmOJoy"
      },
      "source": [
        "### MCMC Sampling"
      ]
    },
    {
      "cell_type": "code",
      "metadata": {
        "colab": {
          "base_uri": "https://localhost:8080/"
        },
        "id": "hvSKm7thHLsS",
        "outputId": "72d9fed1-ed2a-4322-a5ce-7451b12af92d"
      },
      "source": [
        "num_hyper_samples = 10000\n",
        "warmup_steps = 2000 \n",
        "\n",
        "def pyro_model(x, y):\n",
        "    with gpytorch.settings.fast_computations(False, False, False):\n",
        "        sampled_model = model.pyro_sample_from_prior()\n",
        "        output = sampled_model.likelihood(sampled_model(x))\n",
        "        pyro.sample(\"obs\", output, obs=y)\n",
        "    return y\n",
        "\n",
        "nuts_kernel = NUTS(pyro_model, adapt_step_size=True)\n",
        "mcmc_run = MCMC(nuts_kernel, num_samples=num_hyper_samples, warmup_steps=warmup_steps)\n",
        "mcmc_run.run(train_x, train_y)\n",
        "\n",
        "# sometimes cholesky fails"
      ],
      "execution_count": null,
      "outputs": [
        {
          "output_type": "stream",
          "name": "stderr",
          "text": [
            "Warmup:  16%|█▌        | 1949/12000 [03:10, 10.78it/s, step size=3.28e-01, acc. prob=0.791]/usr/local/lib/python3.7/dist-packages/gpytorch/utils/cholesky.py:44: NumericalWarning: A not p.d., added jitter of 1.0e-08 to the diagonal\n",
            "  warnings.warn(f\"A not p.d., added jitter of {jitter_new:.1e} to the diagonal\", NumericalWarning)\n",
            "Sample: 100%|██████████| 12000/12000 [24:18,  8.23it/s, step size=2.98e-01, acc. prob=0.940]\n"
          ]
        }
      ]
    },
    {
      "cell_type": "markdown",
      "metadata": {
        "id": "ho417djBOVA1"
      },
      "source": [
        "### MCMC Samples"
      ]
    },
    {
      "cell_type": "code",
      "metadata": {
        "id": "nspWplD1WyRW"
      },
      "source": [
        "hyperparam = list(mcmc_run.get_samples().keys())\n",
        "\n",
        "kl_samples = mcmc_run.get_samples()[hyperparam[0]]\n",
        "kv_samples = mcmc_run.get_samples()[hyperparam[1]]\n",
        "nv_samples = mcmc_run.get_samples()[hyperparam[2]]\n",
        "\n",
        "parameter_samples = [kl_samples, kv_samples, nv_samples]"
      ],
      "execution_count": null,
      "outputs": []
    },
    {
      "cell_type": "code",
      "metadata": {
        "id": "N2ACHA5SjmBt"
      },
      "source": [
        "def get_mixture_stds(means, stds):\n",
        "    \"\"\"\n",
        "    Return standard deviation of a k-component Gaussian mixture model, given an\n",
        "    (k x n) array of k component means for n locations, and a (k x n) array of\n",
        "    k component stds for n locations.\n",
        "    \"\"\"\n",
        "    mixture_means = np.mean(means, axis=0)\n",
        "    sums_squared_means_stds = means ** 2 + stds ** 2\n",
        "    second_moments = np.mean(sums_squared_means_stds, axis=0)\n",
        "    mixture_vars = second_moments - mixture_means ** 2\n",
        "    mixture_stds = np.sqrt(mixture_vars)\n",
        "    return mixture_stds"
      ],
      "execution_count": null,
      "outputs": []
    },
    {
      "cell_type": "markdown",
      "metadata": {
        "id": "TaRhCnWAOaEe"
      },
      "source": [
        "### Acquisition function loop to obtain equation term values"
      ]
    },
    {
      "cell_type": "code",
      "metadata": {
        "colab": {
          "base_uri": "https://localhost:8080/"
        },
        "id": "3GSm9jhdjmxs",
        "outputId": "e445ab28-3f94-4b5d-96b2-6daf00dd521f"
      },
      "source": [
        "NUM_POST_PRED = 100\n",
        "sampled_hyper_indx = []\n",
        "\n",
        "# np.random.seed(2) # ensures we are working with same indices  \n",
        "\n",
        "# DIFFERENT TEST INDICES OF SAMPLED HYPERPARAMS OF SIZE NUM_POST_PRED:\n",
        "for i in range(NUM_POST_PRED):\n",
        "  sampled_hyper_indx.append(np.random.randint(0,num_hyper_samples))\n",
        "\n",
        "# TESTING POINTS (INPUT):\n",
        "n = 100\n",
        "x = np.linspace(0, 4, n)\n",
        "y = np.linspace(0, 4, n)\n",
        "\n",
        "xx, yy = np.meshgrid(x, y)\n",
        "test_points = torch.Tensor( np.vstack([xx.ravel(), yy.ravel()]).T )\n",
        "\n",
        "num_test = test_points.shape[0]\n",
        "print(test_points.shape)\n",
        "\n",
        "\n",
        "# DIFFERENT TEST INDICES OF SAMPLED HYPERPARAMS:\n",
        "# print(f\"sampled_hyper_indx: {sampled_hyper_indx}\")\n",
        "\n",
        "means = []\n",
        "stds = []\n",
        "entropies = []\n",
        "\n",
        "for indx in sampled_hyper_indx:\n",
        "  # CREATE GPR MODEL:\n",
        "  likelihood = gpytorch.likelihoods.GaussianLikelihood(noise_constraint=gpytorch.constraints.Positive()) \n",
        "  m = ExactGPModel(train_x, train_y, likelihood)   \n",
        "\n",
        "  hypers = {\n",
        "      hyperparam[0][:-6]: parameter_samples[0][indx].numpy()[0][0], #l\n",
        "      hyperparam[1][:-6]: parameter_samples[1][indx].numpy(),       #v\n",
        "      hyperparam[2][:-6]: parameter_samples[2][indx].numpy()[0] } #n\n",
        "\n",
        "  # assign hyperparams from sampled hyperparam distributions:\n",
        "  m.initialize(**hypers)\n",
        "\n",
        "  # print(f\"lengthscale: {parameter_samples[0][indx].numpy()[0][0]}\")\n",
        "  # print(f\"kernel variance: {parameter_samples[1][indx].numpy()}\")\n",
        "  # print(f\"noise variance: {parameter_samples[2][indx].numpy()[0]} \\n\")\n",
        "\n",
        "  # OBTAIN MEAN AND VARIANCE OF F AT A POINTS \"test_points\"\n",
        "  m.eval()                                                      \n",
        "  with torch.no_grad():\n",
        "    predictions = m(test_points)  \n",
        "    mean = predictions.mean.detach().numpy()\n",
        "    var = predictions.variance.detach().numpy()\n",
        "\n",
        "  # print(mean.shape)\n",
        "  # print(var.shape)\n",
        "\n",
        "  mean = np.squeeze(mean)\n",
        "  std = np.sqrt( np.squeeze(var) )\n",
        "\n",
        "  means += [mean]\n",
        "  stds += [std]\n",
        "\n",
        "  # CREATE GAUSSIAN DISTRIBUTIONS WITH MEAN AND VARIANCES AND FIND ENTROPY:\n",
        "  e = [] # holds entropies for \"num_test\" distributions\n",
        "  import torch.distributions as tdist\n",
        "  for i in range(num_test):\n",
        "    distribution_2 = tdist.Normal(mean[i], var[i])\n",
        "    #distribution_2 = torch.normal( mean=mean[i], std=var[i] )\n",
        "    e.append(distribution_2.entropy().detach().numpy())\n",
        "    # print(f'mean {mean[i]}, var {var[i]}, entropy {distribution_2.entropy().numpy()}')\n",
        "\n",
        "  entropies.append(e)"
      ],
      "execution_count": null,
      "outputs": [
        {
          "output_type": "stream",
          "name": "stdout",
          "text": [
            "torch.Size([10000, 2])\n",
            "lengthscale: 2.364878043122758\n",
            "kernel variance: 0.26524538116429497\n",
            "noise variance: 0.10382301745088862 \n",
            "\n",
            "lengthscale: 3.0416644409111324\n",
            "kernel variance: 0.09715350504928166\n",
            "noise variance: 0.16292799072249325 \n",
            "\n",
            "lengthscale: 5.164105465906781\n",
            "kernel variance: 1.2263108661466064\n",
            "noise variance: 0.20552848319969105 \n",
            "\n",
            "lengthscale: 1.3114291496410189\n",
            "kernel variance: 0.2059320677647749\n",
            "noise variance: 0.15575295913383377 \n",
            "\n",
            "lengthscale: 1.4190693773367036\n",
            "kernel variance: 0.3379918713819778\n",
            "noise variance: 0.045030271698875746 \n",
            "\n",
            "lengthscale: 1.270127010134956\n",
            "kernel variance: 0.38615518780452585\n",
            "noise variance: 0.0013010077759279496 \n",
            "\n",
            "lengthscale: 1.4144723648419053\n",
            "kernel variance: 0.1369981921427753\n",
            "noise variance: 0.12808708870248978 \n",
            "\n",
            "lengthscale: 1.1468152480436906\n",
            "kernel variance: 0.36160850209347434\n",
            "noise variance: 0.001892492307878763 \n",
            "\n",
            "lengthscale: 1.0750598509496656\n",
            "kernel variance: 0.44879381025355963\n",
            "noise variance: 0.04293676065394294 \n",
            "\n",
            "lengthscale: 1.4298983376382413\n",
            "kernel variance: 0.2624962609248883\n",
            "noise variance: 0.016981853764346855 \n",
            "\n",
            "lengthscale: 0.9184830586347421\n",
            "kernel variance: 0.32463492315952747\n",
            "noise variance: 0.03047099230453301 \n",
            "\n",
            "lengthscale: 1.7371925735425096\n",
            "kernel variance: 0.9850985031681657\n",
            "noise variance: 0.009756568144931506 \n",
            "\n",
            "lengthscale: 1.1097835364683208\n",
            "kernel variance: 0.3428011226262424\n",
            "noise variance: 0.03459859578514611 \n",
            "\n",
            "lengthscale: 0.9987781238992576\n",
            "kernel variance: 0.10881143309720967\n",
            "noise variance: 0.10900779924240386 \n",
            "\n",
            "lengthscale: 0.7906586451285692\n",
            "kernel variance: 0.3036638185191905\n",
            "noise variance: 0.028832128547990603 \n",
            "\n",
            "lengthscale: 1.6436406145297218\n",
            "kernel variance: 0.69194400236177\n",
            "noise variance: 0.0014703142502683533 \n",
            "\n",
            "lengthscale: 0.9837273948206912\n",
            "kernel variance: 0.3269598955737311\n",
            "noise variance: 0.036120754428197774 \n",
            "\n",
            "lengthscale: 0.9478989480707457\n",
            "kernel variance: 0.10357125788999148\n",
            "noise variance: 0.151066416098443 \n",
            "\n",
            "lengthscale: 0.1493311726948416\n",
            "kernel variance: 0.16378412752198768\n",
            "noise variance: 0.016569259342393616 \n",
            "\n",
            "lengthscale: 1.499584812048153\n",
            "kernel variance: 0.46112910218400704\n",
            "noise variance: 0.03960186154413489 \n",
            "\n",
            "lengthscale: 1.5933247226476404\n",
            "kernel variance: 0.20087660913640545\n",
            "noise variance: 0.011308734585432826 \n",
            "\n",
            "lengthscale: 1.4035685774046869\n",
            "kernel variance: 0.12305899297548521\n",
            "noise variance: 0.11415563656726815 \n",
            "\n",
            "lengthscale: 1.497385839525136\n",
            "kernel variance: 0.5614627080793061\n",
            "noise variance: 0.06670370017381852 \n",
            "\n",
            "lengthscale: 2.37449022874774\n",
            "kernel variance: 0.15403169384816906\n",
            "noise variance: 0.11938577339187693 \n",
            "\n",
            "lengthscale: 1.0736508289832312\n",
            "kernel variance: 0.22276024320511126\n",
            "noise variance: 0.040046323744795574 \n",
            "\n",
            "lengthscale: 0.41535253393385846\n",
            "kernel variance: 0.17095601450187448\n",
            "noise variance: 0.23522055594787697 \n",
            "\n",
            "lengthscale: 1.5933045600729001\n",
            "kernel variance: 0.9872386564037776\n",
            "noise variance: 0.013086898167906697 \n",
            "\n",
            "lengthscale: 1.1245672416857495\n",
            "kernel variance: 0.12512630810029274\n",
            "noise variance: 0.09543411306986309 \n",
            "\n",
            "lengthscale: 0.9114929989869532\n",
            "kernel variance: 0.08256271082804165\n",
            "noise variance: 0.212769774629592 \n",
            "\n",
            "lengthscale: 1.4865753383843086\n",
            "kernel variance: 0.10943087520317354\n",
            "noise variance: 0.019952938263829156 \n",
            "\n",
            "lengthscale: 0.8380717358004794\n",
            "kernel variance: 0.02424192297795679\n",
            "noise variance: 0.15902169314499598 \n",
            "\n",
            "lengthscale: 2.5792806163859976\n",
            "kernel variance: 1.163743330135367\n",
            "noise variance: 0.0576967986201118 \n",
            "\n",
            "lengthscale: 0.9569654335786741\n",
            "kernel variance: 0.7232312053107652\n",
            "noise variance: 0.004605645465661249 \n",
            "\n",
            "lengthscale: 1.9297520083760755\n",
            "kernel variance: 1.9761971984618332\n",
            "noise variance: 0.021658002197392764 \n",
            "\n",
            "lengthscale: 0.027372082120424693\n",
            "kernel variance: 0.31840384906090774\n",
            "noise variance: 0.025110582807548784 \n",
            "\n",
            "lengthscale: 1.2381483554549422\n",
            "kernel variance: 0.16079765399640697\n",
            "noise variance: 0.0011200480583377248 \n",
            "\n",
            "lengthscale: 0.7556064957353779\n",
            "kernel variance: 0.10455659657976456\n",
            "noise variance: 0.13592874858712067 \n",
            "\n",
            "lengthscale: 1.3089364739453717\n",
            "kernel variance: 0.345045494449633\n",
            "noise variance: 0.04854677501121324 \n",
            "\n",
            "lengthscale: 1.3747819751748807\n",
            "kernel variance: 0.6206325748483631\n",
            "noise variance: 0.00029577966093950926 \n",
            "\n",
            "lengthscale: 1.5006005331390733\n",
            "kernel variance: 0.2239577402883306\n",
            "noise variance: 0.024286831635011375 \n",
            "\n",
            "lengthscale: 0.7882972894563414\n",
            "kernel variance: 0.08134724367498185\n",
            "noise variance: 0.044924466880385455 \n",
            "\n",
            "lengthscale: 0.9793092591665072\n",
            "kernel variance: 0.3691280152112543\n",
            "noise variance: 0.03581484815816084 \n",
            "\n",
            "lengthscale: 0.7708682314709272\n",
            "kernel variance: 0.5016937911166602\n",
            "noise variance: 0.10322602950894447 \n",
            "\n",
            "lengthscale: 1.3062227770985528\n",
            "kernel variance: 0.35075226260527465\n",
            "noise variance: 0.01063109576929112 \n",
            "\n",
            "lengthscale: 1.014984338575571\n",
            "kernel variance: 0.39314629470682017\n",
            "noise variance: 0.007419330672739095 \n",
            "\n",
            "lengthscale: 1.711200433333295\n",
            "kernel variance: 1.2068017164465576\n",
            "noise variance: 0.09292373049571567 \n",
            "\n",
            "lengthscale: 0.22167015789624916\n",
            "kernel variance: 0.4351877383856602\n",
            "noise variance: 0.03327166211464494 \n",
            "\n",
            "lengthscale: 2.4862361677283262\n",
            "kernel variance: 0.47270307012841906\n",
            "noise variance: 0.09762347801009376 \n",
            "\n",
            "lengthscale: 1.6094351309023784\n",
            "kernel variance: 1.1928675340371564\n",
            "noise variance: 0.010703485885555713 \n",
            "\n",
            "lengthscale: 1.7143704461554277\n",
            "kernel variance: 0.6596534490651774\n",
            "noise variance: 0.14599459385895414 \n",
            "\n",
            "lengthscale: 0.5029056997128366\n",
            "kernel variance: 0.15854080041758412\n",
            "noise variance: 0.06378648631529128 \n",
            "\n",
            "lengthscale: 1.0644866726593551\n",
            "kernel variance: 0.2569645450320187\n",
            "noise variance: 0.08199233405178465 \n",
            "\n",
            "lengthscale: 0.989809567358289\n",
            "kernel variance: 0.5819276439484972\n",
            "noise variance: 0.009202194145548348 \n",
            "\n",
            "lengthscale: 1.9163965156413465\n",
            "kernel variance: 0.29862256876503124\n",
            "noise variance: 0.04222526531250132 \n",
            "\n",
            "lengthscale: 1.865030182838043\n",
            "kernel variance: 0.2764523585322023\n",
            "noise variance: 0.19582572979784402 \n",
            "\n",
            "lengthscale: 1.6549944098594251\n",
            "kernel variance: 0.4779127718125562\n",
            "noise variance: 0.0031946642916254346 \n",
            "\n",
            "lengthscale: 0.9393308174482267\n",
            "kernel variance: 0.2701894406361862\n",
            "noise variance: 0.016519173555336292 \n",
            "\n",
            "lengthscale: 0.7572166178147988\n",
            "kernel variance: 0.19888885243643284\n",
            "noise variance: 0.00153683728660463 \n",
            "\n",
            "lengthscale: 4.558111280927845\n",
            "kernel variance: 0.3040612901989603\n",
            "noise variance: 0.13636456044273976 \n",
            "\n",
            "lengthscale: 0.8068132240087621\n",
            "kernel variance: 2.022347647752888\n",
            "noise variance: 0.02039353539079177 \n",
            "\n",
            "lengthscale: 1.9703308237962325\n",
            "kernel variance: 1.1253737399254116\n",
            "noise variance: 0.039098192240816954 \n",
            "\n",
            "lengthscale: 1.4715887701969788\n",
            "kernel variance: 0.3213047349636661\n",
            "noise variance: 0.06485735099003703 \n",
            "\n",
            "lengthscale: 1.184937813046057\n",
            "kernel variance: 0.3569611511137175\n",
            "noise variance: 0.32940975334799333 \n",
            "\n",
            "lengthscale: 1.413328056246661\n",
            "kernel variance: 0.23180568518777175\n",
            "noise variance: 0.059522401612275344 \n",
            "\n",
            "lengthscale: 0.7521216611413197\n",
            "kernel variance: 0.24671252647356723\n",
            "noise variance: 0.0032435935169486726 \n",
            "\n",
            "lengthscale: 1.3191452619458297\n",
            "kernel variance: 0.16697434802268635\n",
            "noise variance: 0.04017047826133082 \n",
            "\n",
            "lengthscale: 0.9705947695135686\n",
            "kernel variance: 0.19081399398791807\n",
            "noise variance: 0.0036889094428961483 \n",
            "\n",
            "lengthscale: 0.1334836226047523\n",
            "kernel variance: 0.5287490478783498\n",
            "noise variance: 0.004084373783015774 \n",
            "\n",
            "lengthscale: 1.3609056442105045\n",
            "kernel variance: 0.4073979038662971\n",
            "noise variance: 0.027115229209480007 \n",
            "\n",
            "lengthscale: 0.9312164087743515\n",
            "kernel variance: 0.08893969158574437\n",
            "noise variance: 0.022000347182324517 \n",
            "\n",
            "lengthscale: 1.7862906810217138\n",
            "kernel variance: 0.5201223829337284\n",
            "noise variance: 0.06711214026386289 \n",
            "\n",
            "lengthscale: 0.6778763817494688\n",
            "kernel variance: 0.07394776205438497\n",
            "noise variance: 0.006217545841009508 \n",
            "\n",
            "lengthscale: 1.6022565340106891\n",
            "kernel variance: 0.5357960337195907\n",
            "noise variance: 0.01791710889968657 \n",
            "\n",
            "lengthscale: 1.4797617664260472\n",
            "kernel variance: 0.2599522858469571\n",
            "noise variance: 0.029787650513312922 \n",
            "\n",
            "lengthscale: 1.275718560219581\n",
            "kernel variance: 0.645594383949442\n",
            "noise variance: 0.0256973968296944 \n",
            "\n",
            "lengthscale: 1.212784626913228\n",
            "kernel variance: 0.41192501843295387\n",
            "noise variance: 0.05197049497790205 \n",
            "\n",
            "lengthscale: 1.0287218001795955\n",
            "kernel variance: 0.513705898126578\n",
            "noise variance: 0.18862885184699976 \n",
            "\n",
            "lengthscale: 0.9275246850027363\n",
            "kernel variance: 0.1489708118003961\n",
            "noise variance: 0.015767490331835277 \n",
            "\n",
            "lengthscale: 1.189070117968611\n",
            "kernel variance: 1.0797358342161811\n",
            "noise variance: 0.06559617369162303 \n",
            "\n",
            "lengthscale: 2.25549131681661\n",
            "kernel variance: 1.7527059421164448\n",
            "noise variance: 0.13313404187411382 \n",
            "\n",
            "lengthscale: 1.0600458141802747\n",
            "kernel variance: 0.20895389528007807\n",
            "noise variance: 0.023374257221156734 \n",
            "\n",
            "lengthscale: 3.026540027436148\n",
            "kernel variance: 0.424191148552032\n",
            "noise variance: 0.1374041071044411 \n",
            "\n",
            "lengthscale: 0.6424253267692516\n",
            "kernel variance: 0.07087104929341935\n",
            "noise variance: 0.2081585192304108 \n",
            "\n",
            "lengthscale: 1.126700680838255\n",
            "kernel variance: 0.08047740791971995\n",
            "noise variance: 0.5126730736483124 \n",
            "\n",
            "lengthscale: 1.2640292408693117\n",
            "kernel variance: 0.28282818956615075\n",
            "noise variance: 0.2646612582815731 \n",
            "\n",
            "lengthscale: 1.6290117262414858\n",
            "kernel variance: 0.2569810918542628\n",
            "noise variance: 0.010338264472460997 \n",
            "\n",
            "lengthscale: 0.5026888384494146\n",
            "kernel variance: 0.8805931064053166\n",
            "noise variance: 0.43840324206150355 \n",
            "\n",
            "lengthscale: 1.1891987314766137\n",
            "kernel variance: 0.11156139143863897\n",
            "noise variance: 0.004392789258939202 \n",
            "\n",
            "lengthscale: 3.400852995264958\n",
            "kernel variance: 0.07777246526092559\n",
            "noise variance: 0.1879062478272782 \n",
            "\n",
            "lengthscale: 1.2569053482824968\n",
            "kernel variance: 0.2418891418490811\n",
            "noise variance: 0.0031876324383760847 \n",
            "\n",
            "lengthscale: 0.795987870127744\n",
            "kernel variance: 0.16487373433068542\n",
            "noise variance: 0.02543629281173216 \n",
            "\n",
            "lengthscale: 1.1273852797642354\n",
            "kernel variance: 0.6645012551276464\n",
            "noise variance: 0.517656695352093 \n",
            "\n",
            "lengthscale: 1.0063915454186223\n",
            "kernel variance: 0.25380580318704854\n",
            "noise variance: 0.03144828624158203 \n",
            "\n",
            "lengthscale: 1.5370536204663565\n",
            "kernel variance: 0.4577934080561242\n",
            "noise variance: 0.002740170610275879 \n",
            "\n",
            "lengthscale: 2.0095603231182904\n",
            "kernel variance: 0.6545565277468393\n",
            "noise variance: 0.19371644193637397 \n",
            "\n",
            "lengthscale: 1.2103945002716827\n",
            "kernel variance: 0.413124892573548\n",
            "noise variance: 0.04422929336449048 \n",
            "\n",
            "lengthscale: 0.7772079071380592\n",
            "kernel variance: 0.09116503521186695\n",
            "noise variance: 0.022931524472394826 \n",
            "\n",
            "lengthscale: 0.037379971582802256\n",
            "kernel variance: 0.3823981749151576\n",
            "noise variance: 0.3619532199684589 \n",
            "\n",
            "lengthscale: 2.1007084640903\n",
            "kernel variance: 0.9417878563140659\n",
            "noise variance: 0.024875335501951607 \n",
            "\n",
            "lengthscale: 1.0562184209334682\n",
            "kernel variance: 0.315752804639843\n",
            "noise variance: 0.0011066106722948863 \n",
            "\n"
          ]
        }
      ]
    },
    {
      "cell_type": "markdown",
      "metadata": {
        "id": "TdYxGF_rOpxX"
      },
      "source": [
        "### Final Results"
      ]
    },
    {
      "cell_type": "code",
      "metadata": {
        "colab": {
          "base_uri": "https://localhost:8080/"
        },
        "id": "m6v-JbLjqrE4",
        "outputId": "46c2c343-db75-4baf-eefc-1df69985f274"
      },
      "source": [
        "means = np.array(means)\n",
        "stds = np.array(stds)\n",
        "entropies = np.array(entropies)\n",
        "\n",
        "# COMPUTATIONS TO OBTAIN 1ST TERM IN EQUATION:\n",
        "print(f\"average mean: {np.mean(means, axis=0)}\")\n",
        "print(f\"std deviation of means: {np.std(means, axis=0)}\")\n",
        "mixture_means = np.mean(means, axis=0)\n",
        "mixture_stds = get_mixture_stds(means, stds)\n",
        "\n",
        "distribution_1 = tdist.Normal(torch.tensor(np.array(mixture_means)), torch.tensor(np.array(mixture_stds)))\n",
        "\n",
        "entropy_of_avg = distribution_1.entropy().detach().numpy().reshape(-1,1)\n",
        "\n",
        "# COMPUTATIONS TO OBTAIN 2ND TERM IN EQUATION:\n",
        "avg_entropy = np.mean(entropies, axis=0).reshape(-1,1)\n",
        "print(avg_entropy.shape)\n",
        "\n",
        "# stick in variable:\n",
        "print(f\"ENTROPY OF AVG (1st term): {entropy_of_avg}\")\n",
        "print(f\"AVG OF ENTROPY (2nd term): {avg_entropy}\")\n",
        "\n",
        "acq_value = entropy_of_avg - avg_entropy\n",
        "print(f\"ACQUISITION FUNCTION VALUE: {acq_value}\")"
      ],
      "execution_count": null,
      "outputs": [
        {
          "output_type": "stream",
          "name": "stdout",
          "text": [
            "average mean: [ 0.17393384  0.18033131  0.18682518 ... -0.08403642 -0.08252266\n",
            " -0.08101801]\n",
            "std deviation of means: [0.15164402 0.15177497 0.15187564 ... 0.09938111 0.09848723 0.09762198]\n",
            "(10000, 1)\n",
            "ENTROPY OF AVG (1st term): [[0.77907064]\n",
            " [0.77187012]\n",
            " [0.76461003]\n",
            " ...\n",
            " [0.73958543]\n",
            " [0.7469349 ]\n",
            " [0.75425539]]\n",
            "AVG OF ENTROPY (2nd term): [[-0.19417778]\n",
            " [-0.21019252]\n",
            " [-0.22640967]\n",
            " ...\n",
            " [-0.22640967]\n",
            " [-0.21019252]\n",
            " [-0.19417778]]\n",
            "ACQUISITION FUNCTION VALUE: [[0.97324842]\n",
            " [0.98206264]\n",
            " [0.9910197 ]\n",
            " ...\n",
            " [0.96599511]\n",
            " [0.95712742]\n",
            " [0.94843317]]\n"
          ]
        }
      ]
    },
    {
      "cell_type": "code",
      "metadata": {
        "colab": {
          "base_uri": "https://localhost:8080/"
        },
        "id": "mTwQ2SAGlfof",
        "outputId": "1306a5d3-a59e-4787-9309-6e2c4cc86a97"
      },
      "source": [
        "acq_opt_idx = np.argmax(acq_value)\n",
        "print(f'acq_opt_idx = {acq_opt_idx}')\n",
        "mat_idx_1 = int(acq_opt_idx / 100)\n",
        "mat_idx_2 = acq_opt_idx - (mat_idx_1 * 100)\n",
        "print(mat_idx_1)\n",
        "print(mat_idx_2)\n",
        "print(xx[mat_idx_1, mat_idx_2])\n",
        "print(yy[mat_idx_1, mat_idx_2])"
      ],
      "execution_count": null,
      "outputs": [
        {
          "output_type": "stream",
          "name": "stdout",
          "text": [
            "acq_opt_idx = 3449\n",
            "34\n",
            "49\n",
            "1.97979797979798\n",
            "1.373737373737374\n"
          ]
        }
      ]
    },
    {
      "cell_type": "code",
      "metadata": {
        "colab": {
          "base_uri": "https://localhost:8080/",
          "height": 530
        },
        "id": "LaVqrVhEn7S5",
        "outputId": "2e74fca0-d54c-486e-d3d7-021584a4c65b"
      },
      "source": [
        "print(input_xy.shape)\n",
        "plt.figure(figsize=(8, 8))\n",
        "plt.rc('font', size=16)  \n",
        "plt.xlabel(\"X1\")\n",
        "plt.ylabel(\"X2\")\n",
        "plt.pcolor(xx,yy,acq_value.reshape(n,n))\n",
        "plt.plot(input_xy[:,0], input_xy[:,1], 'o', color='k')\n",
        "plt.plot(xx[mat_idx_1, mat_idx_2], yy[mat_idx_1, mat_idx_2], '*', c=\"magenta\", markersize=10)\n",
        "cbar = plt.colorbar()\n",
        "cbar.set_label(\"EIG(x1 , x2)\")"
      ],
      "execution_count": null,
      "outputs": [
        {
          "output_type": "stream",
          "name": "stdout",
          "text": [
            "torch.Size([8, 2])\n"
          ]
        },
        {
          "output_type": "display_data",
          "data": {
            "image/png": "[encoded data removed]",
            "text/plain": [
              "<Figure size 576x576 with 2 Axes>"
            ]
          },
          "metadata": {
            "needs_background": "light"
          }
        }
      ]
    },
    {
      "cell_type": "code",
      "metadata": {
        "colab": {
          "base_uri": "https://localhost:8080/",
          "height": 306
        },
        "id": "-ou3fukDAEZD",
        "outputId": "7023cbd1-883c-4e3d-fb0f-88526d47b0f1"
      },
      "source": [
        "plt.figure(figsize=(8, 4))\n",
        "\n",
        "for i,val in enumerate(parameter_samples):\n",
        "  plt.plot(np.squeeze(val), label=hyperparam[i][:-6])\n",
        "\n",
        "plt.legend(bbox_to_anchor=(1.0, 1.0))\n",
        "plt.xlabel(\"NUTS iteration\")\n",
        "plt.ylabel(\"hyperparameter values\") # update NUTS or HMC"
      ],
      "execution_count": null,
      "outputs": [
        {
          "output_type": "execute_result",
          "data": {
            "text/plain": [
              "Text(0, 0.5, 'hyperparameter values')"
            ]
          },
          "metadata": {},
          "execution_count": 16
        },
        {
          "output_type": "display_data",
          "data": {
            "image/png": "[encoded data removed]",
            "text/plain": [
              "<Figure size 432x288 with 1 Axes>"
            ]
          },
          "metadata": {
            "needs_background": "light"
          }
        }
      ]
    },
    {
      "cell_type": "code",
      "metadata": {
        "colab": {
          "base_uri": "https://localhost:8080/",
          "height": 241
        },
        "id": "a5mWwJkvc1UV",
        "outputId": "c2a2e500-af2f-4e0d-e7a2-68014800a0b7"
      },
      "source": [
        "fig, axes = plt.subplots(1, 3, figsize=(15, 3), constrained_layout=True)\n",
        "\n",
        "for i, (ax, val) in enumerate(zip(axes,parameter_samples)):\n",
        "  ax.hist(np.stack(val).flatten(), bins=200)\n",
        "  ax.set_title(hyperparam[i][:-6])\n",
        "  ax.set_ylabel('frequency')\n",
        "  ax.set_xlabel('hyperparameter value')\n",
        "  \n",
        "fig.suptitle(\"Hyperparameter Marginal Distributions\");\n"
      ],
      "execution_count": null,
      "outputs": [
        {
          "output_type": "display_data",
          "data": {
            "image/png": "[encoded data removed]",
            "text/plain": [
              "<Figure size 1080x216 with 3 Axes>"
            ]
          },
          "metadata": {
            "needs_background": "light"
          }
        }
      ]
    }
  ]
}